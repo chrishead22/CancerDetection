{
 "cells": [
  {
   "cell_type": "markdown",
   "metadata": {},
   "source": [
    "<font size=\"4\">  \n",
    "    ML 5642 Week 3 Assignment: CNN Cancer Detection\n",
    "</font> \n",
    "<font size=\"3\">  \n",
    "    <ul>\n",
    "        <li>Dataset is taken from <a href=\"https://www.kaggle.com/c/histopathologic-cancer-detection/data\" target=\"_blank\">Kaggle</a></li>\n",
    "        <li>The goal of this project is to accurately identify metastatic cancer in small image patches taken from larger digital pathology scans</li>\n",
    "    </ul>\n",
    "</font> "
   ]
  },
  {
   "cell_type": "code",
   "execution_count": null,
   "metadata": {},
   "outputs": [],
   "source": [
    "# import libraries\n",
    "import numpy as np\n",
    "import pandas as pd\n",
    "import pickle\n",
    "import matplotlib.pyplot as plt\n",
    "import matplotlib.image as mpimg\n",
    "from sklearn.model_selection import train_test_split\n",
    "import tensorflow as tf\n",
    "from tensorflow.keras.models import Sequential\n",
    "from tensorflow.keras.layers import Dense, Conv2D, Flatten, MaxPooling2D, Dropout, BatchNormalization\n",
    "from tensorflow.keras.optimizers import Adam\n",
    "from tensorflow.keras.preprocessing.image import ImageDataGenerator\n",
    "from tensorflow.keras.utils import to_categorical\n",
    "from tensorflow.keras.callbacks import EarlyStopping\n",
    "from tensorflow.keras.metrics import AUC\n",
    "from tensorflow.keras.callbacks import Callback\n",
    "\n",
    "pd.options.mode.chained_assignment = None\n",
    "pd.set_option('display.max_columns', None)"
   ]
  },
  {
   "cell_type": "code",
   "execution_count": null,
   "metadata": {},
   "outputs": [],
   "source": [
    "# connect to Kaggle dataset locally and display contents\n",
    "#df = pd.read_csv('nytimes_best_restaurants_2024.csv')\n",
    "\n",
    "train_images = '/kaggle/input/histopathologic-cancer-detection/train/'\n",
    "test_images = '/kaggle/input/histopathologic-cancer-detection/test/'\n",
    "label_csv = '/kaggle/input/histopathologic-cancer-detection/train_labels.csv'\n",
    "\n",
    "df = pd.read_csv(label_csv)\n",
    "\n",
    "df['id'] = df['id'] + '.tif'\n",
    "df['label'] = df['label'].astype(str)\n",
    "\n",
    "print(df.shape)\n",
    "df.head()"
   ]
  }
 ],
 "metadata": {
  "language_info": {
   "name": "python"
  }
 },
 "nbformat": 4,
 "nbformat_minor": 2
}
